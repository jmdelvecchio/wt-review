{
 "cells": [
  {
   "cell_type": "code",
   "execution_count": null,
   "metadata": {},
   "outputs": [],
   "source": [
    "import pandas as pd\n",
    "import geopandas as gpd\n",
    "import numpy as np \n",
    "import matplotlib.pyplot as plt\n",
    "import seaborn as sns"
   ]
  },
  {
   "cell_type": "markdown",
   "metadata": {},
   "source": [
    "# Figure 4"
   ]
  },
  {
   "cell_type": "code",
   "execution_count": null,
   "metadata": {},
   "outputs": [],
   "source": [
    "df2 = pd.read_csv(\"machine_readable_review.csv\")"
   ]
  },
  {
   "cell_type": "code",
   "execution_count": null,
   "metadata": {},
   "outputs": [],
   "source": [
    "num_bins = 50\n",
    "fig, ax = plt.subplots(1,2, figsize=(6,2.75), dpi=200)\n",
    "sns.histplot(ax=ax[0],\n",
    "              data=df2,\n",
    "                x='Latitude (N)',\n",
    "                  # y='Vegetation community https://nsidc.org/data/ggd639/versions/1 ',\n",
    "                  y='Sarah Koppen',\n",
    "                  # hue='Latitude (N)',\n",
    "                  cmap='cool',\n",
    "                  bins=num_bins,\n",
    "                  cbar=True),\n",
    "sns.histplot(ax=ax[1],\n",
    "              data=df2,\n",
    "                x='Latitude (N)',\n",
    "                  # y='Vegetation community https://nsidc.org/data/ggd639/versions/1 ',\n",
    "                  y='Sarah CAVM veg community',\n",
    "                  # hue='Latitude (N)',\n",
    "                  cmap='cool',\n",
    "                  bins=num_bins,\n",
    "                  cbar=True),\n",
    "ax[0].set_xlim(30,90)\n",
    "ax[1].set_xlim(30,90)\n",
    "ax[0].set_ylabel(\"Köppen climate classification\")\n",
    "ax[1].set_ylabel(\"CAVM classification\")\n",
    "fig.tight_layout()"
   ]
  },
  {
   "cell_type": "markdown",
   "metadata": {},
   "source": [
    "# Figure 1"
   ]
  },
  {
   "cell_type": "code",
   "execution_count": null,
   "metadata": {},
   "outputs": [],
   "source": [
    "gdf = gpd.GeoDataFrame(\n",
    "    df2, geometry=gpd.points_from_xy(df2['Longitude (E)'], df2['Latitude (N)']), crs='epsg:4326')\n",
    "\n",
    "antarctica = gpd.read_file('geoBoundaries-ATA-ADM0_simplified.geojson')\n",
    "arctic = gpd.read_file('Major_Ocean_Currents.geojson')\n"
   ]
  },
  {
   "cell_type": "code",
   "execution_count": null,
   "metadata": {},
   "outputs": [],
   "source": [
    "arctic_buffers = gpd.GeoDataFrame(\n",
    "    gdf.loc[gdf['Latitude (N)'] > 0].dropna(subset='Latitude (N)'),\n",
    "    geometry = gdf.loc[gdf['Latitude (N)'] > 0].dropna(subset='Latitude (N)').to_crs(\"EPSG:3411\").buffer(100000).to_crs(\"EPSG:4326\"),\n",
    ")\n",
    "antarctic_buffers = gpd.GeoDataFrame(\n",
    "    gdf.loc[gdf['Latitude (N)'] < 0].dropna(subset='Latitude (N)'),\n",
    "    geometry = gdf.loc[gdf['Latitude (N)'] < 0].dropna(subset='Latitude (N)').to_crs(\"EPSG:3031\").buffer(100000).to_crs(\"EPSG:4326\")\n",
    ")"
   ]
  },
  {
   "cell_type": "code",
   "execution_count": null,
   "metadata": {},
   "outputs": [],
   "source": [
    "arctic_overlaps = gpd.GeoDataFrame(\n",
    "    arctic_buffers.join(\n",
    "    gpd.sjoin(gdf.loc[gdf['Latitude (N)'] > 0].dropna(subset='Latitude (N)'), arctic_buffers).groupby(\"index_right\").size().rename(\"points\"),\n",
    "    how=\"left\",\n",
    "),\n",
    "geometry = gdf.loc[gdf['Latitude (N)'] > 0].dropna(subset='Latitude (N)').geometry\n",
    ")\n",
    "\n",
    "\n",
    "antarctic_overlaps = gpd.GeoDataFrame(\n",
    "    antarctic_buffers.join(\n",
    "    gpd.sjoin(gdf.loc[gdf['Latitude (N)'] < 0].dropna(subset='Latitude (N)'), antarctic_buffers).groupby(\"index_right\").size().rename(\"points\"),\n",
    "    how=\"left\",\n",
    "),\n",
    "geometry = gdf.loc[gdf['Latitude (N)'] < 0].dropna(subset='Latitude (N)').geometry\n",
    ")"
   ]
  },
  {
   "cell_type": "code",
   "execution_count": null,
   "metadata": {},
   "outputs": [],
   "source": [
    "fig, ax = plt.subplots(1,2, figsize=(7,7), dpi=200)\n",
    "\n",
    "antarctica.to_crs('EPSG:3031').plot(\n",
    "    # z=0,\n",
    "                 ax=ax[1],\n",
    "                 color='gray',\n",
    "                 zorder=0\n",
    "                 )\n",
    "\n",
    "antarctic_overlaps.to_crs('EPSG:3031').plot(markersize=antarctic_overlaps['points']*3,\n",
    "                                         edgecolor='k', linewidth=0.5,\n",
    "                     ax=ax[1]\n",
    "                     )\n",
    "\n",
    "arctic.loc[arctic['COMBO'] =='o'].to_crs('EPSG:3411').plot(\n",
    "    # z=0,\n",
    "                 ax=ax[0],\n",
    "                 color='w',\n",
    "                 zorder=0\n",
    "                 )\n",
    "\n",
    "ax[0].set_facecolor('gray')\n",
    "\n",
    "arctic_overlaps.to_crs('EPSG:3411').plot(markersize=arctic_overlaps['points']*3,\n",
    "                                         edgecolor='k', linewidth=0.5,\n",
    "                     ax=ax[0]\n",
    "                     )\n",
    "\n",
    "ax[0].set_ylim(\n",
    "    -2e6, 5.5e6\n",
    "      )\n",
    "ax[0].set_xlim(\n",
    "    -5e6, 5e6\n",
    "      )"
   ]
  },
  {
   "cell_type": "markdown",
   "metadata": {},
   "source": [
    "# Figure 2"
   ]
  },
  {
   "cell_type": "code",
   "execution_count": null,
   "metadata": {},
   "outputs": [],
   "source": [
    "df2['defs'] = df2['defs'].apply(lambda x: str(x).lower())\n",
    "df2.columns\n",
    "len(df2)"
   ]
  },
  {
   "cell_type": "code",
   "execution_count": null,
   "metadata": {},
   "outputs": [],
   "source": [
    "words = pd.read_csv(\"word_cloud_counts.csv\")\n",
    "word_list = words['Text'].tolist()\n",
    "word_list = [s.lower() for s in word_list]\n",
    "word_list.remove('water')\n",
    "# word_list"
   ]
  },
  {
   "cell_type": "code",
   "execution_count": null,
   "metadata": {},
   "outputs": [],
   "source": [
    "import pandas as pd\n",
    "from collections import Counter\n",
    "import matplotlib.pyplot as plt\n",
    "subregion_counts = df2.groupby('region_code')['defs'].apply(lambda x: ' '.join(x).split()).apply(Counter)\n",
    "subregion_counts"
   ]
  },
  {
   "cell_type": "code",
   "execution_count": null,
   "metadata": {},
   "outputs": [],
   "source": [
    "# Initialize an empty DataFrame to store the counts\n",
    "count_df = pd.DataFrame()\n",
    "\n",
    "# Count occurrences of each word in each subregion\n",
    "for subregion, group in df2.groupby('region_code'):\n",
    "    # Create a Counter for all words in this subregion\n",
    "    word_counts = Counter(' '.join(group['defs']).split())\n",
    "    # Convert Counter to DataFrame\n",
    "    subregion_df = pd.DataFrame.from_dict(word_counts, orient='index', columns=[subregion])\n",
    "    # Merge with the main count DataFrame\n",
    "    if count_df.empty:\n",
    "        count_df = subregion_df\n",
    "    else:\n",
    "        count_df = count_df.join(subregion_df, how='outer')\n",
    "\n",
    "# Replace NaN values with 0\n",
    "count_df = count_df.fillna(0)\n",
    "\n",
    "# Filter the counts to include only the specified strings\n",
    "filtered_counts = count_df.loc[count_df.index.intersection(word_list)]"
   ]
  },
  {
   "cell_type": "code",
   "execution_count": null,
   "metadata": {},
   "outputs": [],
   "source": [
    "filtered_counts['sum'] = filtered_counts.sum(axis=1)\n",
    "filtered_counts['sum'].sort_values(ascending=False)[0:19]"
   ]
  },
  {
   "cell_type": "code",
   "execution_count": null,
   "metadata": {},
   "outputs": [],
   "source": [
    "filtered_counts.loc[filtered_counts['sum'] > 4].sort_values('sum', ascending=False).drop('sum', axis=1).plot(kind='bar', stacked=True)\n",
    "\n",
    "plt.xlabel('Word in definition')\n",
    "plt.ylabel('Frequency')\n",
    "plt.title('Frequency of word in definition by region')\n",
    "plt.legend(title='Region')\n",
    "# plt.ylim(0,22)"
   ]
  }
 ],
 "metadata": {
  "kernelspec": {
   "display_name": "geobasic",
   "language": "python",
   "name": "python3"
  },
  "language_info": {
   "codemirror_mode": {
    "name": "ipython",
    "version": 3
   },
   "file_extension": ".py",
   "mimetype": "text/x-python",
   "name": "python",
   "nbconvert_exporter": "python",
   "pygments_lexer": "ipython3",
   "version": "3.9.18"
  }
 },
 "nbformat": 4,
 "nbformat_minor": 2
}
